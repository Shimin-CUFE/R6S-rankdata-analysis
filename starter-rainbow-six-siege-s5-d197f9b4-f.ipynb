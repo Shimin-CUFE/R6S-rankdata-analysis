{
 "cells": [
  {
   "cell_type": "markdown",
   "source": [
    "## Introduction\n",
    "Greetings from the Kaggle bot! This is an automatically-generated kernel with starter code demonstrating how to read in the data and begin exploring. If you're inspired to dig deeper, click the blue \"Fork Notebook\" button at the top of this kernel to begin editing."
   ],
   "metadata": {}
  },
  {
   "cell_type": "markdown",
   "source": [
    "## Exploratory Analysis\n",
    "To begin this exploratory analysis, first import libraries and define functions for plotting the data using `matplotlib`. Depending on the data, not all plots will be made. (Hey, I'm just a simple kerneling bot, not a Kaggle Competitions Grandmaster!)"
   ],
   "metadata": {}
  },
  {
   "cell_type": "code",
   "source": [
    "from mpl_toolkits.mplot3d import Axes3D\n",
    "from sklearn.preprocessing import StandardScaler\n",
    "import matplotlib.pyplot as plt # plotting\n",
    "import numpy as np # linear algebra\n",
    "import os # accessing directory structure\n",
    "import pandas as pd # data processing, CSV file I/O (e.g. pd.read_csv)\n"
   ],
   "metadata": {
    "collapsed": false,
    "_kg_hide-input": false
   },
   "execution_count": 24,
   "outputs": []
  },
  {
   "cell_type": "markdown",
   "source": [
    "There are 22 csv files in the current version of the dataset:\n"
   ],
   "metadata": {}
  },
  {
   "cell_type": "code",
   "source": [
    "print(os.listdir('./datadump_s5_ranked_data'))"
   ],
   "metadata": {
    "collapsed": false,
    "_kg_hide-input": false
   },
   "execution_count": 25,
   "outputs": [
    {
     "name": "stdout",
     "output_type": "stream",
     "text": [
      "['datadump_s5-000.csv', 'datadump_s5-001.csv', 'datadump_s5-002.csv', 'datadump_s5-003.csv', 'datadump_s5-004.csv', 'datadump_s5-005.csv', 'datadump_s5-006.csv', 'datadump_s5-007.csv', 'datadump_s5-008.csv', 'datadump_s5-009.csv', 'datadump_s5-010.csv', 'datadump_s5-011.csv', 'datadump_s5-012.csv', 'datadump_s5-013.csv', 'datadump_s5-014.csv', 'datadump_s5-015.csv', 'datadump_s5-016.csv', 'datadump_s5-017.csv', 'datadump_s5-018.csv', 'datadump_s5-019.csv', 'datadump_s5-020.csv', 'datadump_s5-021.csv']\n"
     ]
    }
   ]
  },
  {
   "cell_type": "markdown",
   "source": [
    "The next hidden code cells define functions for plotting data. Click on the \"Code\" button in the published kernel to reveal the hidden code."
   ],
   "metadata": {}
  },
  {
   "cell_type": "code",
   "source": [
    "# Distribution graphs (histogram/bar graph) of column data\n",
    "def plotPerColumnDistribution(df, nGraphShown, nGraphPerRow):\n",
    "    nunique = df.nunique()\n",
    "    df = df[[col for col in df if nunique[col] > 1 and nunique[col] < 50]] # For displaying purposes, pick columns that have between 1 and 50 unique values\n",
    "    nRow, nCol = df.shape\n",
    "    columnNames = list(df)\n",
    "    nGraphRow = (nCol + nGraphPerRow - 1) / nGraphPerRow\n",
    "    plt.figure(num = None, figsize = (6 * nGraphPerRow, 8 * nGraphRow), dpi = 80, facecolor = 'w', edgecolor = 'k')\n",
    "    for i in range(min(nCol, nGraphShown)):\n",
    "        plt.subplot(nGraphRow, nGraphPerRow, i + 1)\n",
    "        columnDf = df.iloc[:, i]\n",
    "        if (not np.issubdtype(type(columnDf.iloc[0]), np.number)):\n",
    "            valueCounts = columnDf.value_counts()\n",
    "            valueCounts.plot.bar()\n",
    "        else:\n",
    "            columnDf.hist()\n",
    "        plt.ylabel('counts')\n",
    "        plt.xticks(rotation = 90)\n",
    "        plt.title(f'{columnNames[i]} (column {i})')\n",
    "    plt.tight_layout(pad = 1.0, w_pad = 1.0, h_pad = 1.0)\n",
    "    plt.show()\n"
   ],
   "metadata": {
    "collapsed": true,
    "_kg_hide-input": true
   },
   "execution_count": 26,
   "outputs": []
  },
  {
   "cell_type": "code",
   "source": [
    "# Correlation matrix\n",
    "def plotCorrelationMatrix(df, graphWidth):\n",
    "    filename = df.dataframeName\n",
    "    df = df.dropna('columns') # drop columns with NaN\n",
    "    df = df[[col for col in df if df[col].nunique() > 1]] # keep columns where there are more than 1 unique values\n",
    "    if df.shape[1] < 2:\n",
    "        print(f'No correlation plots shown: The number of non-NaN or constant columns ({df.shape[1]}) is less than 2')\n",
    "        return\n",
    "    corr = df.corr()\n",
    "    plt.figure(num=None, figsize=(graphWidth, graphWidth), dpi=80, facecolor='w', edgecolor='k')\n",
    "    corrMat = plt.matshow(corr, fignum = 1)\n",
    "    plt.xticks(range(len(corr.columns)), corr.columns, rotation=90)\n",
    "    plt.yticks(range(len(corr.columns)), corr.columns)\n",
    "    plt.gca().xaxis.tick_bottom()\n",
    "    plt.colorbar(corrMat)\n",
    "    plt.title(f'Correlation Matrix for {filename}', fontsize=15)\n",
    "    plt.show()\n"
   ],
   "metadata": {
    "collapsed": true,
    "_kg_hide-input": true
   },
   "execution_count": 27,
   "outputs": []
  },
  {
   "cell_type": "code",
   "source": [
    "# Scatter and density plots\n",
    "def plotScatterMatrix(df, plotSize, textSize):\n",
    "    df = df.select_dtypes(include =[np.number]) # keep only numerical columns\n",
    "    # Remove rows and columns that would lead to df being singular\n",
    "    df = df.dropna('columns')\n",
    "    df = df[[col for col in df if df[col].nunique() > 1]] # keep columns where there are more than 1 unique values\n",
    "    columnNames = list(df)\n",
    "    if len(columnNames) > 10: # reduce the number of columns for matrix inversion of kernel density plots\n",
    "        columnNames = columnNames[:10]\n",
    "    df = df[columnNames]\n",
    "    ax = pd.plotting.scatter_matrix(df, alpha=0.75, figsize=[plotSize, plotSize], diagonal='kde')\n",
    "    corrs = df.corr().values\n",
    "    for i, j in zip(*plt.np.triu_indices_from(ax, k = 1)):\n",
    "        ax[i, j].annotate('Corr. coef = %.3f' % corrs[i, j], (0.8, 0.2), xycoords='axes fraction', ha='center', va='center', size=textSize)\n",
    "    plt.suptitle('Scatter and Density Plot')\n",
    "    plt.show()\n"
   ],
   "metadata": {
    "collapsed": true,
    "_kg_hide-input": true
   },
   "execution_count": 28,
   "outputs": []
  },
  {
   "cell_type": "markdown",
   "source": [
    "Now you're ready to read in the data and use the plotting functions to visualize the data."
   ],
   "metadata": {}
  },
  {
   "cell_type": "markdown",
   "source": [
    "### Let's check 1st file: ../input/datadump_s5/datadump_s5-000.csv"
   ],
   "metadata": {}
  },
  {
   "cell_type": "code",
   "source": [
    "nRowsRead = 1000 # specify 'None' if want to read whole file\n",
    "# datadump_s5-000.csv may have more rows in reality, but we are only loading/previewing the first 1000 rows\n",
    "df1 = pd.read_csv('./datadump_s5_ranked_data/datadump_s5-000.csv', delimiter=',', nrows = nRowsRead)\n",
    "df1.dataframeName = 'datadump_s5-000.csv'\n",
    "nRow, nCol = df1.shape\n",
    "print(f'There are {nRow} rows and {nCol} columns')"
   ],
   "metadata": {
    "collapsed": false,
    "_kg_hide-input": false
   },
   "execution_count": 29,
   "outputs": [
    {
     "name": "stdout",
     "output_type": "stream",
     "text": [
      "There are 1000 rows and 31 columns\n"
     ]
    }
   ]
  },
  {
   "cell_type": "markdown",
   "source": [
    "Let's take a quick look at what the data looks like:"
   ],
   "metadata": {}
  },
  {
   "cell_type": "code",
   "source": [
    "df1.head(5)"
   ],
   "metadata": {
    "collapsed": false,
    "_kg_hide-input": false
   },
   "execution_count": 30,
   "outputs": [
    {
     "data": {
      "text/plain": "     dateid platform gamemode     mapname     matchid  roundnumber  \\\n0  20170212       PC  HOSTAGE  CLUB_HOUSE  1522380841            1   \n1  20170212       PC  HOSTAGE  CLUB_HOUSE  1522380841            4   \n2  20170212       PC  HOSTAGE  CLUB_HOUSE  1522380841            3   \n3  20170212       PC  HOSTAGE  CLUB_HOUSE  1522380841            4   \n4  20170212       PC  HOSTAGE  CLUB_HOUSE  1522380841            6   \n\n  objectivelocation   winrole          endroundreason  roundduration  ...  \\\n0        STRIP_CLUB  Defender  AttackersKilledHostage            124  ...   \n1            CHURCH  Defender     AttackersEliminated            217  ...   \n2            CHURCH  Defender     AttackersEliminated            160  ...   \n3            CHURCH  Defender     AttackersEliminated            217  ...   \n4           BEDROOM  Attacker     DefendersEliminated            143  ...   \n\n   primarygrip primaryunderbarrel primarybarrel  secondaryweapon  \\\n0     Vertical               None   Compensator          5.7_USG   \n1     Vertical              Laser    Suppressor              P12   \n2         None               None          None          MK1_9mm   \n3         None               None   MuzzleBrake            PRB92   \n4     Vertical              Laser    Suppressor              P12   \n\n   secondaryweapontype secondarysight  secondarygrip  secondaryunderbarrel  \\\n0              Pistols           None           None                  None   \n1              Pistols           None           None                 Laser   \n2              Pistols           None           None                  None   \n3              Pistols           None           None                  None   \n4              Pistols           None           None                 Laser   \n\n  secondarybarrel    secondarygadget  \n0            None     IMPACT_GRENADE  \n1      Suppressor  DEPLOYABLE_SHIELD  \n2            None  DEPLOYABLE_SHIELD  \n3            None     IMPACT_GRENADE  \n4      Suppressor  DEPLOYABLE_SHIELD  \n\n[5 rows x 31 columns]",
      "text/html": "<div>\n<style scoped>\n    .dataframe tbody tr th:only-of-type {\n        vertical-align: middle;\n    }\n\n    .dataframe tbody tr th {\n        vertical-align: top;\n    }\n\n    .dataframe thead th {\n        text-align: right;\n    }\n</style>\n<table border=\"1\" class=\"dataframe\">\n  <thead>\n    <tr style=\"text-align: right;\">\n      <th></th>\n      <th>dateid</th>\n      <th>platform</th>\n      <th>gamemode</th>\n      <th>mapname</th>\n      <th>matchid</th>\n      <th>roundnumber</th>\n      <th>objectivelocation</th>\n      <th>winrole</th>\n      <th>endroundreason</th>\n      <th>roundduration</th>\n      <th>...</th>\n      <th>primarygrip</th>\n      <th>primaryunderbarrel</th>\n      <th>primarybarrel</th>\n      <th>secondaryweapon</th>\n      <th>secondaryweapontype</th>\n      <th>secondarysight</th>\n      <th>secondarygrip</th>\n      <th>secondaryunderbarrel</th>\n      <th>secondarybarrel</th>\n      <th>secondarygadget</th>\n    </tr>\n  </thead>\n  <tbody>\n    <tr>\n      <th>0</th>\n      <td>20170212</td>\n      <td>PC</td>\n      <td>HOSTAGE</td>\n      <td>CLUB_HOUSE</td>\n      <td>1522380841</td>\n      <td>1</td>\n      <td>STRIP_CLUB</td>\n      <td>Defender</td>\n      <td>AttackersKilledHostage</td>\n      <td>124</td>\n      <td>...</td>\n      <td>Vertical</td>\n      <td>None</td>\n      <td>Compensator</td>\n      <td>5.7_USG</td>\n      <td>Pistols</td>\n      <td>None</td>\n      <td>None</td>\n      <td>None</td>\n      <td>None</td>\n      <td>IMPACT_GRENADE</td>\n    </tr>\n    <tr>\n      <th>1</th>\n      <td>20170212</td>\n      <td>PC</td>\n      <td>HOSTAGE</td>\n      <td>CLUB_HOUSE</td>\n      <td>1522380841</td>\n      <td>4</td>\n      <td>CHURCH</td>\n      <td>Defender</td>\n      <td>AttackersEliminated</td>\n      <td>217</td>\n      <td>...</td>\n      <td>Vertical</td>\n      <td>Laser</td>\n      <td>Suppressor</td>\n      <td>P12</td>\n      <td>Pistols</td>\n      <td>None</td>\n      <td>None</td>\n      <td>Laser</td>\n      <td>Suppressor</td>\n      <td>DEPLOYABLE_SHIELD</td>\n    </tr>\n    <tr>\n      <th>2</th>\n      <td>20170212</td>\n      <td>PC</td>\n      <td>HOSTAGE</td>\n      <td>CLUB_HOUSE</td>\n      <td>1522380841</td>\n      <td>3</td>\n      <td>CHURCH</td>\n      <td>Defender</td>\n      <td>AttackersEliminated</td>\n      <td>160</td>\n      <td>...</td>\n      <td>None</td>\n      <td>None</td>\n      <td>None</td>\n      <td>MK1_9mm</td>\n      <td>Pistols</td>\n      <td>None</td>\n      <td>None</td>\n      <td>None</td>\n      <td>None</td>\n      <td>DEPLOYABLE_SHIELD</td>\n    </tr>\n    <tr>\n      <th>3</th>\n      <td>20170212</td>\n      <td>PC</td>\n      <td>HOSTAGE</td>\n      <td>CLUB_HOUSE</td>\n      <td>1522380841</td>\n      <td>4</td>\n      <td>CHURCH</td>\n      <td>Defender</td>\n      <td>AttackersEliminated</td>\n      <td>217</td>\n      <td>...</td>\n      <td>None</td>\n      <td>None</td>\n      <td>MuzzleBrake</td>\n      <td>PRB92</td>\n      <td>Pistols</td>\n      <td>None</td>\n      <td>None</td>\n      <td>None</td>\n      <td>None</td>\n      <td>IMPACT_GRENADE</td>\n    </tr>\n    <tr>\n      <th>4</th>\n      <td>20170212</td>\n      <td>PC</td>\n      <td>HOSTAGE</td>\n      <td>CLUB_HOUSE</td>\n      <td>1522380841</td>\n      <td>6</td>\n      <td>BEDROOM</td>\n      <td>Attacker</td>\n      <td>DefendersEliminated</td>\n      <td>143</td>\n      <td>...</td>\n      <td>Vertical</td>\n      <td>Laser</td>\n      <td>Suppressor</td>\n      <td>P12</td>\n      <td>Pistols</td>\n      <td>None</td>\n      <td>None</td>\n      <td>Laser</td>\n      <td>Suppressor</td>\n      <td>DEPLOYABLE_SHIELD</td>\n    </tr>\n  </tbody>\n</table>\n<p>5 rows × 31 columns</p>\n</div>"
     },
     "execution_count": 30,
     "metadata": {},
     "output_type": "execute_result"
    }
   ]
  },
  {
   "cell_type": "markdown",
   "source": [
    "Distribution graphs (histogram/bar graph) of sampled columns:"
   ],
   "metadata": {}
  },
  {
   "cell_type": "code",
   "source": [
    "plotPerColumnDistribution(df1, 10, 5)"
   ],
   "metadata": {
    "collapsed": false,
    "_kg_hide-input": false
   },
   "execution_count": 31,
   "outputs": [
    {
     "ename": "ValueError",
     "evalue": "Number of rows must be a positive integer, not 6.4",
     "output_type": "error",
     "traceback": [
      "\u001B[1;31m---------------------------------------------------------------------------\u001B[0m",
      "\u001B[1;31mValueError\u001B[0m                                Traceback (most recent call last)",
      "\u001B[1;32m~\\AppData\\Local\\Temp/ipykernel_10772/3644980118.py\u001B[0m in \u001B[0;36m<module>\u001B[1;34m\u001B[0m\n\u001B[1;32m----> 1\u001B[1;33m \u001B[0mplotPerColumnDistribution\u001B[0m\u001B[1;33m(\u001B[0m\u001B[0mdf1\u001B[0m\u001B[1;33m,\u001B[0m \u001B[1;36m10\u001B[0m\u001B[1;33m,\u001B[0m \u001B[1;36m5\u001B[0m\u001B[1;33m)\u001B[0m\u001B[1;33m\u001B[0m\u001B[1;33m\u001B[0m\u001B[0m\n\u001B[0m\u001B[0;32m      2\u001B[0m \u001B[1;33m\u001B[0m\u001B[0m\n",
      "\u001B[1;32m~\\AppData\\Local\\Temp/ipykernel_10772/951355743.py\u001B[0m in \u001B[0;36mplotPerColumnDistribution\u001B[1;34m(df, nGraphShown, nGraphPerRow)\u001B[0m\n\u001B[0;32m      8\u001B[0m     \u001B[0mplt\u001B[0m\u001B[1;33m.\u001B[0m\u001B[0mfigure\u001B[0m\u001B[1;33m(\u001B[0m\u001B[0mnum\u001B[0m \u001B[1;33m=\u001B[0m \u001B[1;32mNone\u001B[0m\u001B[1;33m,\u001B[0m \u001B[0mfigsize\u001B[0m \u001B[1;33m=\u001B[0m \u001B[1;33m(\u001B[0m\u001B[1;36m6\u001B[0m \u001B[1;33m*\u001B[0m \u001B[0mnGraphPerRow\u001B[0m\u001B[1;33m,\u001B[0m \u001B[1;36m8\u001B[0m \u001B[1;33m*\u001B[0m \u001B[0mnGraphRow\u001B[0m\u001B[1;33m)\u001B[0m\u001B[1;33m,\u001B[0m \u001B[0mdpi\u001B[0m \u001B[1;33m=\u001B[0m \u001B[1;36m80\u001B[0m\u001B[1;33m,\u001B[0m \u001B[0mfacecolor\u001B[0m \u001B[1;33m=\u001B[0m \u001B[1;34m'w'\u001B[0m\u001B[1;33m,\u001B[0m \u001B[0medgecolor\u001B[0m \u001B[1;33m=\u001B[0m \u001B[1;34m'k'\u001B[0m\u001B[1;33m)\u001B[0m\u001B[1;33m\u001B[0m\u001B[1;33m\u001B[0m\u001B[0m\n\u001B[0;32m      9\u001B[0m     \u001B[1;32mfor\u001B[0m \u001B[0mi\u001B[0m \u001B[1;32min\u001B[0m \u001B[0mrange\u001B[0m\u001B[1;33m(\u001B[0m\u001B[0mmin\u001B[0m\u001B[1;33m(\u001B[0m\u001B[0mnCol\u001B[0m\u001B[1;33m,\u001B[0m \u001B[0mnGraphShown\u001B[0m\u001B[1;33m)\u001B[0m\u001B[1;33m)\u001B[0m\u001B[1;33m:\u001B[0m\u001B[1;33m\u001B[0m\u001B[1;33m\u001B[0m\u001B[0m\n\u001B[1;32m---> 10\u001B[1;33m         \u001B[0mplt\u001B[0m\u001B[1;33m.\u001B[0m\u001B[0msubplot\u001B[0m\u001B[1;33m(\u001B[0m\u001B[0mnGraphRow\u001B[0m\u001B[1;33m,\u001B[0m \u001B[0mnGraphPerRow\u001B[0m\u001B[1;33m,\u001B[0m \u001B[0mi\u001B[0m \u001B[1;33m+\u001B[0m \u001B[1;36m1\u001B[0m\u001B[1;33m)\u001B[0m\u001B[1;33m\u001B[0m\u001B[1;33m\u001B[0m\u001B[0m\n\u001B[0m\u001B[0;32m     11\u001B[0m         \u001B[0mcolumnDf\u001B[0m \u001B[1;33m=\u001B[0m \u001B[0mdf\u001B[0m\u001B[1;33m.\u001B[0m\u001B[0miloc\u001B[0m\u001B[1;33m[\u001B[0m\u001B[1;33m:\u001B[0m\u001B[1;33m,\u001B[0m \u001B[0mi\u001B[0m\u001B[1;33m]\u001B[0m\u001B[1;33m\u001B[0m\u001B[1;33m\u001B[0m\u001B[0m\n\u001B[0;32m     12\u001B[0m         \u001B[1;32mif\u001B[0m \u001B[1;33m(\u001B[0m\u001B[1;32mnot\u001B[0m \u001B[0mnp\u001B[0m\u001B[1;33m.\u001B[0m\u001B[0missubdtype\u001B[0m\u001B[1;33m(\u001B[0m\u001B[0mtype\u001B[0m\u001B[1;33m(\u001B[0m\u001B[0mcolumnDf\u001B[0m\u001B[1;33m.\u001B[0m\u001B[0miloc\u001B[0m\u001B[1;33m[\u001B[0m\u001B[1;36m0\u001B[0m\u001B[1;33m]\u001B[0m\u001B[1;33m)\u001B[0m\u001B[1;33m,\u001B[0m \u001B[0mnp\u001B[0m\u001B[1;33m.\u001B[0m\u001B[0mnumber\u001B[0m\u001B[1;33m)\u001B[0m\u001B[1;33m)\u001B[0m\u001B[1;33m:\u001B[0m\u001B[1;33m\u001B[0m\u001B[1;33m\u001B[0m\u001B[0m\n",
      "\u001B[1;32m~\\.conda\\envs\\pytorch_gpu\\lib\\site-packages\\matplotlib\\pyplot.py\u001B[0m in \u001B[0;36msubplot\u001B[1;34m(*args, **kwargs)\u001B[0m\n\u001B[0;32m   1266\u001B[0m \u001B[1;33m\u001B[0m\u001B[0m\n\u001B[0;32m   1267\u001B[0m     \u001B[1;31m# First, search for an existing subplot with a matching spec.\u001B[0m\u001B[1;33m\u001B[0m\u001B[1;33m\u001B[0m\u001B[0m\n\u001B[1;32m-> 1268\u001B[1;33m     \u001B[0mkey\u001B[0m \u001B[1;33m=\u001B[0m \u001B[0mSubplotSpec\u001B[0m\u001B[1;33m.\u001B[0m\u001B[0m_from_subplot_args\u001B[0m\u001B[1;33m(\u001B[0m\u001B[0mfig\u001B[0m\u001B[1;33m,\u001B[0m \u001B[0margs\u001B[0m\u001B[1;33m)\u001B[0m\u001B[1;33m\u001B[0m\u001B[1;33m\u001B[0m\u001B[0m\n\u001B[0m\u001B[0;32m   1269\u001B[0m \u001B[1;33m\u001B[0m\u001B[0m\n\u001B[0;32m   1270\u001B[0m     \u001B[1;32mfor\u001B[0m \u001B[0max\u001B[0m \u001B[1;32min\u001B[0m \u001B[0mfig\u001B[0m\u001B[1;33m.\u001B[0m\u001B[0maxes\u001B[0m\u001B[1;33m:\u001B[0m\u001B[1;33m\u001B[0m\u001B[1;33m\u001B[0m\u001B[0m\n",
      "\u001B[1;32m~\\.conda\\envs\\pytorch_gpu\\lib\\site-packages\\matplotlib\\gridspec.py\u001B[0m in \u001B[0;36m_from_subplot_args\u001B[1;34m(figure, args)\u001B[0m\n\u001B[0;32m    593\u001B[0m                             f\"{len(args)} were given\")\n\u001B[0;32m    594\u001B[0m \u001B[1;33m\u001B[0m\u001B[0m\n\u001B[1;32m--> 595\u001B[1;33m         \u001B[0mgs\u001B[0m \u001B[1;33m=\u001B[0m \u001B[0mGridSpec\u001B[0m\u001B[1;33m.\u001B[0m\u001B[0m_check_gridspec_exists\u001B[0m\u001B[1;33m(\u001B[0m\u001B[0mfigure\u001B[0m\u001B[1;33m,\u001B[0m \u001B[0mrows\u001B[0m\u001B[1;33m,\u001B[0m \u001B[0mcols\u001B[0m\u001B[1;33m)\u001B[0m\u001B[1;33m\u001B[0m\u001B[1;33m\u001B[0m\u001B[0m\n\u001B[0m\u001B[0;32m    596\u001B[0m         \u001B[1;32mif\u001B[0m \u001B[0mgs\u001B[0m \u001B[1;32mis\u001B[0m \u001B[1;32mNone\u001B[0m\u001B[1;33m:\u001B[0m\u001B[1;33m\u001B[0m\u001B[1;33m\u001B[0m\u001B[0m\n\u001B[0;32m    597\u001B[0m             \u001B[0mgs\u001B[0m \u001B[1;33m=\u001B[0m \u001B[0mGridSpec\u001B[0m\u001B[1;33m(\u001B[0m\u001B[0mrows\u001B[0m\u001B[1;33m,\u001B[0m \u001B[0mcols\u001B[0m\u001B[1;33m,\u001B[0m \u001B[0mfigure\u001B[0m\u001B[1;33m=\u001B[0m\u001B[0mfigure\u001B[0m\u001B[1;33m)\u001B[0m\u001B[1;33m\u001B[0m\u001B[1;33m\u001B[0m\u001B[0m\n",
      "\u001B[1;32m~\\.conda\\envs\\pytorch_gpu\\lib\\site-packages\\matplotlib\\gridspec.py\u001B[0m in \u001B[0;36m_check_gridspec_exists\u001B[1;34m(figure, nrows, ncols)\u001B[0m\n\u001B[0;32m    221\u001B[0m                     \u001B[1;32mreturn\u001B[0m \u001B[0mgs\u001B[0m\u001B[1;33m\u001B[0m\u001B[1;33m\u001B[0m\u001B[0m\n\u001B[0;32m    222\u001B[0m         \u001B[1;31m# else gridspec not found:\u001B[0m\u001B[1;33m\u001B[0m\u001B[1;33m\u001B[0m\u001B[0m\n\u001B[1;32m--> 223\u001B[1;33m         \u001B[1;32mreturn\u001B[0m \u001B[0mGridSpec\u001B[0m\u001B[1;33m(\u001B[0m\u001B[0mnrows\u001B[0m\u001B[1;33m,\u001B[0m \u001B[0mncols\u001B[0m\u001B[1;33m,\u001B[0m \u001B[0mfigure\u001B[0m\u001B[1;33m=\u001B[0m\u001B[0mfigure\u001B[0m\u001B[1;33m)\u001B[0m\u001B[1;33m\u001B[0m\u001B[1;33m\u001B[0m\u001B[0m\n\u001B[0m\u001B[0;32m    224\u001B[0m \u001B[1;33m\u001B[0m\u001B[0m\n\u001B[0;32m    225\u001B[0m     \u001B[1;32mdef\u001B[0m \u001B[0m__getitem__\u001B[0m\u001B[1;33m(\u001B[0m\u001B[0mself\u001B[0m\u001B[1;33m,\u001B[0m \u001B[0mkey\u001B[0m\u001B[1;33m)\u001B[0m\u001B[1;33m:\u001B[0m\u001B[1;33m\u001B[0m\u001B[1;33m\u001B[0m\u001B[0m\n",
      "\u001B[1;32m~\\.conda\\envs\\pytorch_gpu\\lib\\site-packages\\matplotlib\\gridspec.py\u001B[0m in \u001B[0;36m__init__\u001B[1;34m(self, nrows, ncols, figure, left, bottom, right, top, wspace, hspace, width_ratios, height_ratios)\u001B[0m\n\u001B[0;32m    381\u001B[0m         \u001B[0mself\u001B[0m\u001B[1;33m.\u001B[0m\u001B[0mfigure\u001B[0m \u001B[1;33m=\u001B[0m \u001B[0mfigure\u001B[0m\u001B[1;33m\u001B[0m\u001B[1;33m\u001B[0m\u001B[0m\n\u001B[0;32m    382\u001B[0m \u001B[1;33m\u001B[0m\u001B[0m\n\u001B[1;32m--> 383\u001B[1;33m         super().__init__(nrows, ncols,\n\u001B[0m\u001B[0;32m    384\u001B[0m                          \u001B[0mwidth_ratios\u001B[0m\u001B[1;33m=\u001B[0m\u001B[0mwidth_ratios\u001B[0m\u001B[1;33m,\u001B[0m\u001B[1;33m\u001B[0m\u001B[1;33m\u001B[0m\u001B[0m\n\u001B[0;32m    385\u001B[0m                          height_ratios=height_ratios)\n",
      "\u001B[1;32m~\\.conda\\envs\\pytorch_gpu\\lib\\site-packages\\matplotlib\\gridspec.py\u001B[0m in \u001B[0;36m__init__\u001B[1;34m(self, nrows, ncols, height_ratios, width_ratios)\u001B[0m\n\u001B[0;32m     45\u001B[0m         \"\"\"\n\u001B[0;32m     46\u001B[0m         \u001B[1;32mif\u001B[0m \u001B[1;32mnot\u001B[0m \u001B[0misinstance\u001B[0m\u001B[1;33m(\u001B[0m\u001B[0mnrows\u001B[0m\u001B[1;33m,\u001B[0m \u001B[0mIntegral\u001B[0m\u001B[1;33m)\u001B[0m \u001B[1;32mor\u001B[0m \u001B[0mnrows\u001B[0m \u001B[1;33m<=\u001B[0m \u001B[1;36m0\u001B[0m\u001B[1;33m:\u001B[0m\u001B[1;33m\u001B[0m\u001B[1;33m\u001B[0m\u001B[0m\n\u001B[1;32m---> 47\u001B[1;33m             raise ValueError(\n\u001B[0m\u001B[0;32m     48\u001B[0m                 f\"Number of rows must be a positive integer, not {nrows!r}\")\n\u001B[0;32m     49\u001B[0m         \u001B[1;32mif\u001B[0m \u001B[1;32mnot\u001B[0m \u001B[0misinstance\u001B[0m\u001B[1;33m(\u001B[0m\u001B[0mncols\u001B[0m\u001B[1;33m,\u001B[0m \u001B[0mIntegral\u001B[0m\u001B[1;33m)\u001B[0m \u001B[1;32mor\u001B[0m \u001B[0mncols\u001B[0m \u001B[1;33m<=\u001B[0m \u001B[1;36m0\u001B[0m\u001B[1;33m:\u001B[0m\u001B[1;33m\u001B[0m\u001B[1;33m\u001B[0m\u001B[0m\n",
      "\u001B[1;31mValueError\u001B[0m: Number of rows must be a positive integer, not 6.4"
     ]
    },
    {
     "data": {
      "text/plain": "<Figure size 2400x4096 with 0 Axes>"
     },
     "metadata": {},
     "output_type": "display_data"
    }
   ]
  },
  {
   "cell_type": "markdown",
   "source": [
    "### Let's check 2nd file: ../input/datadump_s5/datadump_s5-001.csv"
   ],
   "metadata": {}
  },
  {
   "cell_type": "code",
   "source": [
    "nRowsRead = 1000 # specify 'None' if want to read whole file\n",
    "# datadump_s5-001.csv may have more rows in reality, but we are only loading/previewing the first 1000 rows\n",
    "df2 = pd.read_csv('./datadump_s5_ranked_data/datadump_s5-001.csv', delimiter=',', nrows = nRowsRead)\n",
    "df2.dataframeName = 'datadump_s5-001.csv'\n",
    "nRow, nCol = df2.shape\n",
    "print(f'There are {nRow} rows and {nCol} columns')"
   ],
   "metadata": {
    "collapsed": false,
    "_kg_hide-input": false
   },
   "execution_count": null,
   "outputs": []
  },
  {
   "cell_type": "markdown",
   "source": [
    "Let's take a quick look at what the data looks like:"
   ],
   "metadata": {}
  },
  {
   "cell_type": "code",
   "source": [
    "df2.head(5)"
   ],
   "metadata": {
    "collapsed": false,
    "_kg_hide-input": false
   },
   "execution_count": null,
   "outputs": []
  },
  {
   "cell_type": "markdown",
   "source": [
    "Distribution graphs (histogram/bar graph) of sampled columns:"
   ],
   "metadata": {}
  },
  {
   "cell_type": "code",
   "source": [
    "plotPerColumnDistribution(df2, 10, 5)"
   ],
   "metadata": {
    "collapsed": false,
    "_kg_hide-input": false
   },
   "execution_count": null,
   "outputs": []
  },
  {
   "cell_type": "markdown",
   "source": [
    "### Let's check 3rd file: ../input/datadump_s5/datadump_s5-002.csv"
   ],
   "metadata": {}
  },
  {
   "cell_type": "code",
   "source": [
    "nRowsRead = 1000 # specify 'None' if want to read whole file\n",
    "# datadump_s5-002.csv may have more rows in reality, but we are only loading/previewing the first 1000 rows\n",
    "df3 = pd.read_csv('./datadump_s5_ranked_data/datadump_s5-002.csv', delimiter=',', nrows = nRowsRead)\n",
    "df3.dataframeName = 'datadump_s5-002.csv'\n",
    "nRow, nCol = df3.shape\n",
    "print(f'There are {nRow} rows and {nCol} columns')"
   ],
   "metadata": {
    "collapsed": false,
    "_kg_hide-input": false
   },
   "execution_count": null,
   "outputs": []
  },
  {
   "cell_type": "markdown",
   "source": "Let's take a quick look at what the data looks like:",
   "metadata": {}
  },
  {
   "cell_type": "code",
   "source": "df3.head(5)",
   "metadata": {
    "collapsed": false,
    "_kg_hide-input": false
   },
   "execution_count": null,
   "outputs": []
  },
  {
   "cell_type": "markdown",
   "source": "Distribution graphs (histogram/bar graph) of sampled columns:",
   "metadata": {}
  },
  {
   "cell_type": "code",
   "source": "plotPerColumnDistribution(df3, 10, 5)",
   "metadata": {
    "collapsed": false,
    "_kg_hide-input": false
   },
   "execution_count": null,
   "outputs": []
  },
  {
   "cell_type": "markdown",
   "source": "## Conclusion\r\nThis concludes your starter analysis! To go forward from here, click the blue \"Fork Notebook\" button at the top of this kernel. This will create a copy of the code and environment for you to edit. Delete, modify, and add code as you please. Happy Kaggling!",
   "metadata": {}
  }
 ],
 "metadata": {
  "language_info": {
   "name": "python",
   "version": "3.6.6",
   "mimetype": "text/x-python",
   "codemirror_mode": {
    "name": "ipython",
    "version": 3
   },
   "pygments_lexer": "ipython3",
   "nbconvert_exporter": "python",
   "file_extension": ".py"
  },
  "kernelspec": {
   "name": "pycharm-840d4f25",
   "language": "python",
   "display_name": "PyCharm (rainbowSixSiege_analysis)"
  }
 },
 "nbformat": 4,
 "nbformat_minor": 0
}